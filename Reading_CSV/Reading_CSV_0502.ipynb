{
 "cells": [
  {
   "cell_type": "code",
   "execution_count": 1,
   "id": "4b8d3ddf",
   "metadata": {
    "scrolled": true
   },
   "outputs": [],
   "source": [
    "import pandas as pd\n",
    "import os\n",
    "import statistics\n",
    "import csv\n",
    "import seaborn as sns\n",
    "\n",
    "# with open(os.getcwd()+'/envtest/python/saved/x_averge.csv', 'w') as f:\n",
    "# writer = csv.writer(f)\n",
    "ave_x = []\n",
    "ave_v = []\n",
    "last_sim = 376\n",
    "sim_num = 45\n",
    "last_traj = 250\n",
    "for i in range (last_sim-sim_num+1,last_sim+1):  \n",
    "    df = pd.read_csv(os.getcwd()+'/../envtest/python/saved/PPO_'+str(i)+'/TestTraj/test_traj_{:05}.csv'.format(last_traj),usecols=[\"done\",\"t\",\"px\"])\n",
    "    l = []\n",
    "    v = []\n",
    "    for index, row in df.iterrows():\n",
    "        if row[0]==1.0 and oldt > 0.1:\n",
    "            l.append(oldpx)\n",
    "            v.append(oldpx/oldt)\n",
    "        oldt = row[1]\n",
    "        oldpx = row[2]\n",
    "    if l == []:\n",
    "        l.append(oldpx)\n",
    "    if v == []:\n",
    "        v.append(oldpx/oldt)\n",
    "    ave_x.append(statistics.mean(l))\n",
    "    ave_v.append(statistics.mean(v))"
   ]
  },
  {
   "cell_type": "code",
   "execution_count": 2,
   "id": "49f6d417",
   "metadata": {
    "scrolled": false
   },
   "outputs": [
    {
     "name": "stdout",
     "output_type": "stream",
     "text": [
      "[11.02846321626281, 15.811311964921142, 11.267272560647964, 6.3614662847209935, 1.6527454802881663, 1.2553557188637954, 7.405169048869064, 13.303223972306425, 1.6154057782073563, 7.24885784172352, 1.433300079893641, 1.4005879312129552, 17.389566831309537, 17.36721575817715, 9.328213162140688, 7.483099247014406, 3.565276875356602, 3.678682768332258, 16.332327913623928, 15.461420037775659, 7.873057116494732, 7.64099562785396, 2.9032496772693435, 3.214638556748714]\n"
     ]
    }
   ],
   "source": [
    "print(ave_x)"
   ]
  },
  {
   "cell_type": "code",
   "execution_count": 3,
   "id": "fbea1adc",
   "metadata": {},
   "outputs": [],
   "source": [
    "col_001_05 = []\n",
    "col_001_1 = []\n",
    "col_001_2 = []\n",
    "\n",
    "for i in range (sim_num):\n",
    "    if i%3==0:\n",
    "        col_001_05.append(ave_x[i])\n",
    "    if i%3==1:\n",
    "        col_001_1.append(ave_x[i])\n",
    "    else:\n",
    "        col_001_2.append(ave_x[i])\n",
    "\n",
    "ncol_001_05 = [[col_001_05[3*j+i] for j in range (5)] for i in range (3)]\n",
    "ncol_001_1 = [[col_001_1[3*j+i] for j in range (5)] for i in range (3)]\n",
    "ncol_001_2 = [[col_001_2[3*j+i] for j in range (5)] for i in range (3)]\n",
    "\n",
    "# vcol_001_1 = []\n",
    "# vcol_001_2 = []\n",
    "# vcol_005_1 = []\n",
    "# vcol_005_2 = []\n",
    "# for i in range (24):\n",
    "#     if i%2==0:\n",
    "#         if (i//6)%2==0:\n",
    "#             vcol_001_1.append(ave_v[i])\n",
    "#         else:\n",
    "#             vcol_005_1.append(ave_v[i])\n",
    "#     else:\n",
    "#         if (i//6)%2==0:\n",
    "#             vcol_001_2.append(ave_v[i])\n",
    "#         else:\n",
    "#             vcol_005_2.append(ave_v[i])\n",
    "# nvcol_001_1 = [[vcol_001_1[3*i+j] for j in range (3)] for i in range (2)]\n",
    "# nvcol_001_2 = [[vcol_001_2[3*i+j] for j in range (3)] for i in range (2)]\n",
    "# nvcol_005_1 = [[vcol_005_1[3*i+j] for j in range (3)] for i in range (2)]\n",
    "# nvcol_005_2 = [[vcol_005_2[3*i+j] for j in range (3)] for i in range (2)]"
   ]
  },
  {
   "cell_type": "code",
   "execution_count": 4,
   "id": "29cdcd83",
   "metadata": {
    "scrolled": true
   },
   "outputs": [
    {
     "data": {
      "text/plain": [
       "<AxesSubplot:>"
      ]
     },
     "execution_count": 4,
     "metadata": {},
     "output_type": "execute_result"
    },
    {
     "data": {
      "image/png": "[encoded data removed]",
      "text/plain": [
       "<Figure size 432x288 with 2 Axes>"
      ]
     },
     "metadata": {
      "needs_background": "light"
     },
     "output_type": "display_data"
    }
   ],
   "source": [
    "df = pd.DataFrame(data=ncol_001_05, \\\n",
    "                  index=['1', '1.5','2'], columns=['0.1', '0.05', '0.02', '0','-0.1'])\n",
    "sns.heatmap(df)"
   ]
  },
  {
   "cell_type": "code",
   "execution_count": 6,
   "id": "f8775b4b",
   "metadata": {},
   "outputs": [
    {
     "data": {
      "text/plain": [
       "<AxesSubplot:>"
      ]
     },
     "execution_count": 6,
     "metadata": {},
     "output_type": "execute_result"
    },
    {
     "data": {
      "image/png": "[encoded data removed]",
      "text/plain": [
       "<Figure size 432x288 with 2 Axes>"
      ]
     },
     "metadata": {
      "needs_background": "light"
     },
     "output_type": "display_data"
    }
   ],
   "source": [
    "df = pd.DataFrame(data=ncol_001_1, \\\n",
    "                  index=['1', '1.5','2'], columns=['0.1', '0.05', '0.02', '0','-0.1'])\n",
    "sns.heatmap(df)"
   ]
  },
  {
   "cell_type": "code",
   "execution_count": 5,
   "id": "fa683ab2",
   "metadata": {},
   "outputs": [
    {
     "data": {
      "text/plain": [
       "<AxesSubplot:>"
      ]
     },
     "execution_count": 5,
     "metadata": {},
     "output_type": "execute_result"
    },
    {
     "data": {
      "image/png": "[encoded data removed]",
      "text/plain": [
       "<Figure size 432x288 with 2 Axes>"
      ]
     },
     "metadata": {
      "needs_background": "light"
     },
     "output_type": "display_data"
    }
   ],
   "source": [
    "df = pd.DataFrame(data=ncol_001_2, \\\n",
    "                  index=['1', '1.5','2'], columns=['0.1', '0.05', '0.02', '0','-0.1'])\n",
    "sns.heatmap(df)"
   ]
  },
  {
   "cell_type": "code",
   "execution_count": 7,
   "id": "ff0b002b",
   "metadata": {},
   "outputs": [],
   "source": [
    "last_sim = 387\n",
    "sim_num = 1\n",
    "last_traj = 250\n",
    "for i in range (last_sim-sim_num+1,last_sim+1):  \n",
    "    df = pd.read_csv(os.getcwd()+'/../envtest/python/saved/PPO_'+str(i)+'/TestTraj/test_traj_{:05}.csv'.format(last_traj),usecols=[\"done\",\"t\",\"px\"])\n",
    "    l = []\n",
    "    v = []\n",
    "    for index, row in df.iterrows():\n",
    "        if row[0]==1.0 and oldt > 0.1:\n",
    "            l.append(oldpx)\n",
    "            v.append(oldpx/oldt)\n",
    "        oldt = row[1]\n",
    "        oldpx = row[2]\n",
    "    if l == []:\n",
    "        l.append(oldpx)\n",
    "    if v == []:\n",
    "        v.append(oldpx/oldt)\n",
    "    ave_x.append(statistics.mean(l))\n",
    "    ave_v.append(statistics.mean(v))"
   ]
  },
  {
   "cell_type": "code",
   "execution_count": 9,
   "id": "eac37d73",
   "metadata": {},
   "outputs": [
    {
     "data": {
      "text/plain": [
       "13.463234740010682"
      ]
     },
     "execution_count": 9,
     "metadata": {},
     "output_type": "execute_result"
    }
   ],
   "source": [
    "ave_x[-1]"
   ]
  },
  {
   "cell_type": "code",
   "execution_count": null,
   "id": "91e2bef3",
   "metadata": {},
   "outputs": [],
   "source": []
  }
 ],
 "metadata": {
  "kernelspec": {
   "display_name": "Python 3 (ipykernel)",
   "language": "python",
   "name": "python3"
  },
  "language_info": {
   "codemirror_mode": {
    "name": "ipython",
    "version": 3
   },
   "file_extension": ".py",
   "mimetype": "text/x-python",
   "name": "python",
   "nbconvert_exporter": "python",
   "pygments_lexer": "ipython3",
   "version": "3.9.7"
  }
 },
 "nbformat": 4,
 "nbformat_minor": 5
}
