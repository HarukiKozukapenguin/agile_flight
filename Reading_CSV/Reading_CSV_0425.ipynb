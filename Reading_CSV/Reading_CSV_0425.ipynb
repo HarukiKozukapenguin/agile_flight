{
 "cells": [
  {
   "cell_type": "code",
   "execution_count": 1,
   "id": "4b8d3ddf",
   "metadata": {},
   "outputs": [],
   "source": [
    "import pandas as pd\n",
    "import os\n",
    "import statistics\n",
    "import csv\n",
    "import seaborn as sns\n",
    "\n",
    "# with open(os.getcwd()+'/envtest/python/saved/x_averge.csv', 'w') as f:\n",
    "# writer = csv.writer(f)\n",
    "ave_x = []\n",
    "ave_v = []\n",
    "last_sim = 162\n",
    "sim_num = 24\n",
    "for i in range (last_sim-sim_num+1,last_sim+1):  \n",
    "    df = pd.read_csv(os.getcwd()+'/envtest/python/saved/PPO_'+str(i)+'/TestTraj/test_traj_02000.csv',usecols=[\"done\",\"t\",\"px\"])\n",
    "    l = []\n",
    "    v = []\n",
    "    for index, row in df.iterrows():\n",
    "        if row[0]==1.0 and oldt > 0.1:\n",
    "            l.append(oldpx)\n",
    "            v.append(oldpx/oldt)\n",
    "        oldt = row[1]\n",
    "        oldpx = row[2]\n",
    "    ave_x.append(statistics.mean(l))\n",
    "    ave_v.append(statistics.mean(v))"
   ]
  },
  {
   "cell_type": "code",
   "execution_count": 57,
   "id": "b40da311",
   "metadata": {
    "scrolled": false
   },
   "outputs": [
    {
     "name": "stdout",
     "output_type": "stream",
     "text": [
      "67.43454528934232\n",
      "4.349595527865894\n"
     ]
    }
   ],
   "source": [
    "# df = pd.read_csv(os.getcwd()+'/envtest/python/saved/PPO_'+str(77)+'/TestTraj/test_traj_02000.csv',usecols=[\"done\",\"t\",\"px\"])\n",
    "# l = []\n",
    "# v = []\n",
    "# for index, row in df.iterrows():\n",
    "#     if row[0]==1.0 and oldt > 0.1: #episodeが0.1s以下の場合は無視\n",
    "#         l.append(oldpx)\n",
    "#         v.append(oldpx/oldt)\n",
    "#     oldt = row[1]\n",
    "#     oldpx = row[2]\n",
    "# print(statistics.mean(l))\n",
    "# print(statistics.mean(v))"
   ]
  },
  {
   "cell_type": "code",
   "execution_count": 2,
   "id": "49f6d417",
   "metadata": {},
   "outputs": [
    {
     "name": "stdout",
     "output_type": "stream",
     "text": [
      "[57.562577739278375, 63.94485650148019, 60.97726808717372, 59.24152994967262, 50.60724313247559, 60.29551989519676, 62.980190938128416, 61.587964184934734, 57.82778976537684, 57.04465698216709, 49.19718700498002, 46.64136683349146, 58.99716372155139, 54.3630299826636, 56.62996067987096, 61.717075808608925, 62.7435569392435, 61.236888520748636, 61.434310442210204, 57.80227518206515, 59.0309283517625, 60.645648683303634, 55.863034185181185, 60.57971793927816]\n"
     ]
    }
   ],
   "source": [
    "print(ave_x)"
   ]
  },
  {
   "cell_type": "code",
   "execution_count": 9,
   "id": "fbea1adc",
   "metadata": {},
   "outputs": [],
   "source": [
    "col_001_1 = []\n",
    "col_001_2 = []\n",
    "col_005_1 = []\n",
    "col_005_2 = []\n",
    "for i in range (24):\n",
    "    if i%2==0:\n",
    "        if (i//6)%2==0:\n",
    "            col_001_1.append(ave_x[i])\n",
    "        else:\n",
    "            col_005_1.append(ave_x[i])\n",
    "    else:\n",
    "        if (i//6)%2==0:\n",
    "            col_001_2.append(ave_x[i])\n",
    "        else:\n",
    "            col_005_2.append(ave_x[i])\n",
    "ncol_001_1 = [[col_001_1[3*i+j] for j in range (3)] for i in range (2)]\n",
    "ncol_001_2 = [[col_001_2[3*i+j] for j in range (3)] for i in range (2)]\n",
    "ncol_005_1 = [[col_005_1[3*i+j] for j in range (3)] for i in range (2)]\n",
    "ncol_005_2 = [[col_005_2[3*i+j] for j in range (3)] for i in range (2)]\n",
    "\n",
    "vcol_001_1 = []\n",
    "vcol_001_2 = []\n",
    "vcol_005_1 = []\n",
    "vcol_005_2 = []\n",
    "for i in range (24):\n",
    "    if i%2==0:\n",
    "        if (i//6)%2==0:\n",
    "            vcol_001_1.append(ave_v[i])\n",
    "        else:\n",
    "            vcol_005_1.append(ave_v[i])\n",
    "    else:\n",
    "        if (i//6)%2==0:\n",
    "            vcol_001_2.append(ave_v[i])\n",
    "        else:\n",
    "            vcol_005_2.append(ave_v[i])\n",
    "nvcol_001_1 = [[vcol_001_1[3*i+j] for j in range (3)] for i in range (2)]\n",
    "nvcol_001_2 = [[vcol_001_2[3*i+j] for j in range (3)] for i in range (2)]\n",
    "nvcol_005_1 = [[vcol_005_1[3*i+j] for j in range (3)] for i in range (2)]\n",
    "nvcol_005_2 = [[vcol_005_2[3*i+j] for j in range (3)] for i in range (2)]"
   ]
  },
  {
   "cell_type": "code",
   "execution_count": 4,
   "id": "29cdcd83",
   "metadata": {
    "scrolled": false
   },
   "outputs": [
    {
     "data": {
      "text/plain": [
       "<AxesSubplot:>"
      ]
     },
     "execution_count": 4,
     "metadata": {},
     "output_type": "execute_result"
    },
    {
     "data": {
      "image/png": "[encoded data removed]",
      "text/plain": [
       "<Figure size 432x288 with 2 Axes>"
      ]
     },
     "metadata": {
      "needs_background": "light"
     },
     "output_type": "display_data"
    }
   ],
   "source": [
    "df = pd.DataFrame(data=ncol_001_1, \\\n",
    "                  index=['1.5', '3'], columns=['0.1', '0', '-0.1'])\n",
    "sns.heatmap(df)"
   ]
  },
  {
   "cell_type": "code",
   "execution_count": 5,
   "id": "f8775b4b",
   "metadata": {},
   "outputs": [
    {
     "data": {
      "text/plain": [
       "<AxesSubplot:>"
      ]
     },
     "execution_count": 5,
     "metadata": {},
     "output_type": "execute_result"
    },
    {
     "data": {
      "image/png": "[encoded data removed]",
      "text/plain": [
       "<Figure size 432x288 with 2 Axes>"
      ]
     },
     "metadata": {
      "needs_background": "light"
     },
     "output_type": "display_data"
    }
   ],
   "source": [
    "df = pd.DataFrame(data=ncol_001_2, \\\n",
    "                  index=['1.5', '3'], columns=['0.1', '0', '-0.1'])\n",
    "sns.heatmap(df)"
   ]
  },
  {
   "cell_type": "code",
   "execution_count": 6,
   "id": "fa683ab2",
   "metadata": {},
   "outputs": [
    {
     "data": {
      "text/plain": [
       "<AxesSubplot:>"
      ]
     },
     "execution_count": 6,
     "metadata": {},
     "output_type": "execute_result"
    },
    {
     "data": {
      "image/png": "[encoded data removed]",
      "text/plain": [
       "<Figure size 432x288 with 2 Axes>"
      ]
     },
     "metadata": {
      "needs_background": "light"
     },
     "output_type": "display_data"
    }
   ],
   "source": [
    "df = pd.DataFrame(data=nvcol_005_1, \\\n",
    "                  index=['1.5', '3'], columns=['0.1', '0', '-0.1'])\n",
    "sns.heatmap(df)"
   ]
  },
  {
   "cell_type": "code",
   "execution_count": 21,
   "id": "9db2ec46",
   "metadata": {},
   "outputs": [
    {
     "data": {
      "text/plain": [
       "<AxesSubplot:>"
      ]
     },
     "execution_count": 21,
     "metadata": {},
     "output_type": "execute_result"
    },
    {
     "data": {
      "image/png": "[encoded data removed]",
      "text/plain": [
       "<Figure size 432x288 with 2 Axes>"
      ]
     },
     "metadata": {
      "needs_background": "light"
     },
     "output_type": "display_data"
    }
   ],
   "source": [
    "df = pd.DataFrame(data=ncol_005_2, \\\n",
    "                  index=['1.5', '3'], columns=['0.1', '0', '-0.1'])\n",
    "sns.heatmap(df)"
   ]
  },
  {
   "cell_type": "code",
   "execution_count": 15,
   "id": "b16e5f28",
   "metadata": {
    "scrolled": true
   },
   "outputs": [
    {
     "data": {
      "text/plain": [
       "<AxesSubplot:>"
      ]
     },
     "execution_count": 15,
     "metadata": {},
     "output_type": "execute_result"
    },
    {
     "data": {
      "image/png": "[encoded data removed]",
      "text/plain": [
       "<Figure size 432x288 with 2 Axes>"
      ]
     },
     "metadata": {
      "needs_background": "light"
     },
     "output_type": "display_data"
    }
   ],
   "source": [
    "df = pd.DataFrame(data=nvcol_001_1, \\\n",
    "                  index=['1.5', '3'], columns=['0.1', '0', '-0.1'])\n",
    "sns.heatmap(df)"
   ]
  },
  {
   "cell_type": "code",
   "execution_count": 20,
   "id": "46877ece",
   "metadata": {},
   "outputs": [
    {
     "data": {
      "text/plain": [
       "<AxesSubplot:>"
      ]
     },
     "execution_count": 20,
     "metadata": {},
     "output_type": "execute_result"
    },
    {
     "data": {
      "image/png": "[encoded data removed]",
      "text/plain": [
       "<Figure size 432x288 with 2 Axes>"
      ]
     },
     "metadata": {
      "needs_background": "light"
     },
     "output_type": "display_data"
    }
   ],
   "source": [
    "df = pd.DataFrame(data=nvcol_001_2, \\\n",
    "                  index=['1.5', '3'], columns=['0.1', '0', '-0.1'])\n",
    "sns.heatmap(df)"
   ]
  },
  {
   "cell_type": "code",
   "execution_count": 19,
   "id": "838a8881",
   "metadata": {},
   "outputs": [
    {
     "data": {
      "text/plain": [
       "<AxesSubplot:>"
      ]
     },
     "execution_count": 19,
     "metadata": {},
     "output_type": "execute_result"
    },
    {
     "data": {
      "image/png": "[encoded data removed]",
      "text/plain": [
       "<Figure size 432x288 with 2 Axes>"
      ]
     },
     "metadata": {
      "needs_background": "light"
     },
     "output_type": "display_data"
    }
   ],
   "source": [
    "df = pd.DataFrame(data=nvcol_005_1, \\\n",
    "                  index=['1.5', '3'], columns=['0.1', '0', '-0.1'])\n",
    "sns.heatmap(df)"
   ]
  },
  {
   "cell_type": "code",
   "execution_count": 18,
   "id": "8b89e03c",
   "metadata": {},
   "outputs": [
    {
     "data": {
      "text/plain": [
       "<AxesSubplot:>"
      ]
     },
     "execution_count": 18,
     "metadata": {},
     "output_type": "execute_result"
    },
    {
     "data": {
      "image/png": "[encoded data removed]",
      "text/plain": [
       "<Figure size 432x288 with 2 Axes>"
      ]
     },
     "metadata": {
      "needs_background": "light"
     },
     "output_type": "display_data"
    }
   ],
   "source": [
    "df = pd.DataFrame(data=nvcol_005_2, \\\n",
    "                  index=['1.5', '3'], columns=['0.1', '0', '-0.1'])\n",
    "sns.heatmap(df)"
   ]
  },
  {
   "cell_type": "code",
   "execution_count": null,
   "id": "4086141e",
   "metadata": {},
   "outputs": [],
   "source": []
  }
 ],
 "metadata": {
  "kernelspec": {
   "display_name": "Python 3 (ipykernel)",
   "language": "python",
   "name": "python3"
  },
  "language_info": {
   "codemirror_mode": {
    "name": "ipython",
    "version": 3
   },
   "file_extension": ".py",
   "mimetype": "text/x-python",
   "name": "python",
   "nbconvert_exporter": "python",
   "pygments_lexer": "ipython3",
   "version": "3.9.7"
  }
 },
 "nbformat": 4,
 "nbformat_minor": 5
}
