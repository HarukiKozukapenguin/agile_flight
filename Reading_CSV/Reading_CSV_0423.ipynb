{
 "cells": [
  {
   "cell_type": "code",
   "execution_count": 1,
   "id": "4b8d3ddf",
   "metadata": {},
   "outputs": [],
   "source": [
    "import pandas as pd\n",
    "import os\n",
    "import statistics\n",
    "import csv\n",
    "import seaborn as sns\n",
    "\n",
    "# with open(os.getcwd()+'/envtest/python/saved/x_averge.csv', 'w') as f:\n",
    "# writer = csv.writer(f)\n",
    "ave_x = []\n",
    "ave_v = []\n",
    "for i in range (115,139):  \n",
    "    df = pd.read_csv(os.getcwd()+'/envtest/python/saved/PPO_'+str(i)+'/TestTraj/test_traj_02000.csv',usecols=[\"done\",\"t\",\"px\"])\n",
    "    l = []\n",
    "    v = []\n",
    "    for index, row in df.iterrows():\n",
    "        if row[0]==1.0 and oldt > 0.1:\n",
    "            l.append(oldpx)\n",
    "            v.append(oldpx/oldt)\n",
    "        oldt = row[1]\n",
    "        oldpx = row[2]\n",
    "    ave_x.append(statistics.mean(l))\n",
    "    ave_v.append(statistics.mean(v))"
   ]
  },
  {
   "cell_type": "code",
   "execution_count": 57,
   "id": "b40da311",
   "metadata": {
    "scrolled": false
   },
   "outputs": [
    {
     "name": "stdout",
     "output_type": "stream",
     "text": [
      "67.43454528934232\n",
      "4.349595527865894\n"
     ]
    }
   ],
   "source": [
    "# df = pd.read_csv(os.getcwd()+'/envtest/python/saved/PPO_'+str(77)+'/TestTraj/test_traj_02000.csv',usecols=[\"done\",\"t\",\"px\"])\n",
    "# l = []\n",
    "# v = []\n",
    "# for index, row in df.iterrows():\n",
    "#     if row[0]==1.0 and oldt > 0.1: #episodeが0.1s以下の場合は無視\n",
    "#         l.append(oldpx)\n",
    "#         v.append(oldpx/oldt)\n",
    "#     oldt = row[1]\n",
    "#     oldpx = row[2]\n",
    "# print(statistics.mean(l))\n",
    "# print(statistics.mean(v))"
   ]
  },
  {
   "cell_type": "code",
   "execution_count": 4,
   "id": "49f6d417",
   "metadata": {},
   "outputs": [
    {
     "name": "stdout",
     "output_type": "stream",
     "text": [
      "[52.56862063690797, 36.17278128816434, 14.450260196493213, 67.99272563050836, 67.77059358055443, 12.712051397420774, 37.830081597523886, 68.11181572220694, 60.613804187050036, 36.31861499753981, 66.68150687632075, 25.968595951528442, 67.54331966306948, 12.734832311395209, 34.176120651189656, 34.85745770278884, 67.14049155185378, 41.958333108382774, 67.86536998392312, 20.47186674700801, 59.641665971225684, 54.34799753301271, 35.65719806817216, 45.60533910167967]\n"
     ]
    }
   ],
   "source": [
    "print(ave_x)"
   ]
  },
  {
   "cell_type": "code",
   "execution_count": 6,
   "id": "fbea1adc",
   "metadata": {},
   "outputs": [],
   "source": [
    "col_001_1 = []\n",
    "col_001_2 = []\n",
    "col_005_1 = []\n",
    "col_005_2 = []\n",
    "for i in range (24):\n",
    "    if i%2==0:\n",
    "        if (i//6)%2==0:\n",
    "            col_001_1.append(ave_x[i])\n",
    "        else:\n",
    "            col_005_1.append(ave_x[i])\n",
    "    else:\n",
    "        if (i//6)%2==0:\n",
    "            col_001_2.append(ave_x[i])\n",
    "        else:\n",
    "            col_005_2.append(ave_x[i])\n",
    "ncol_001_1 = [[col_001_1[3*i+j] for j in range (3)] for i in range (2)]\n",
    "ncol_001_2 = [[col_001_2[3*i+j] for j in range (3)] for i in range (2)]\n",
    "ncol_005_1 = [[col_005_1[3*i+j] for j in range (3)] for i in range (2)]\n",
    "ncol_005_2 = [[col_005_2[3*i+j] for j in range (3)] for i in range (2)]"
   ]
  },
  {
   "cell_type": "code",
   "execution_count": 3,
   "id": "29cdcd83",
   "metadata": {
    "scrolled": false
   },
   "outputs": [
    {
     "data": {
      "text/plain": [
       "<AxesSubplot:>"
      ]
     },
     "execution_count": 3,
     "metadata": {},
     "output_type": "execute_result"
    },
    {
     "data": {
      "image/png": "[encoded data removed]",
      "text/plain": [
       "<Figure size 432x288 with 2 Axes>"
      ]
     },
     "metadata": {
      "needs_background": "light"
     },
     "output_type": "display_data"
    }
   ],
   "source": [
    "df = pd.DataFrame(data=ncol_001_1, \\\n",
    "                  index=['1.5', '3'], columns=['0.1', '0', '-0.1'])\n",
    "sns.heatmap(df)"
   ]
  },
  {
   "cell_type": "code",
   "execution_count": 8,
   "id": "f8775b4b",
   "metadata": {},
   "outputs": [
    {
     "data": {
      "text/plain": [
       "<AxesSubplot:>"
      ]
     },
     "execution_count": 8,
     "metadata": {},
     "output_type": "execute_result"
    },
    {
     "data": {
      "image/png": "[encoded data removed]",
      "text/plain": [
       "<Figure size 432x288 with 2 Axes>"
      ]
     },
     "metadata": {
      "needs_background": "light"
     },
     "output_type": "display_data"
    }
   ],
   "source": [
    "df = pd.DataFrame(data=ncol_001_2, \\\n",
    "                  index=['1.5', '3'], columns=['0.1', '0', '-0.1'])\n",
    "sns.heatmap(df)"
   ]
  },
  {
   "cell_type": "code",
   "execution_count": 9,
   "id": "fa683ab2",
   "metadata": {},
   "outputs": [
    {
     "data": {
      "text/plain": [
       "<AxesSubplot:>"
      ]
     },
     "execution_count": 9,
     "metadata": {},
     "output_type": "execute_result"
    },
    {
     "data": {
      "image/png": "[encoded data removed]",
      "text/plain": [
       "<Figure size 432x288 with 2 Axes>"
      ]
     },
     "metadata": {
      "needs_background": "light"
     },
     "output_type": "display_data"
    }
   ],
   "source": [
    "df = pd.DataFrame(data=ncol_005_1, \\\n",
    "                  index=['1.5', '3'], columns=['0.1', '0', '-0.1'])\n",
    "sns.heatmap(df)"
   ]
  },
  {
   "cell_type": "code",
   "execution_count": 10,
   "id": "9db2ec46",
   "metadata": {},
   "outputs": [
    {
     "data": {
      "text/plain": [
       "<AxesSubplot:>"
      ]
     },
     "execution_count": 10,
     "metadata": {},
     "output_type": "execute_result"
    },
    {
     "data": {
      "image/png": "[encoded data removed]",
      "text/plain": [
       "<Figure size 432x288 with 2 Axes>"
      ]
     },
     "metadata": {
      "needs_background": "light"
     },
     "output_type": "display_data"
    }
   ],
   "source": [
    "df = pd.DataFrame(data=ncol_005_2, \\\n",
    "                  index=['1.5', '3'], columns=['0.1', '0', '-0.1'])\n",
    "sns.heatmap(df)"
   ]
  },
  {
   "cell_type": "code",
   "execution_count": null,
   "id": "b16e5f28",
   "metadata": {},
   "outputs": [],
   "source": []
  }
 ],
 "metadata": {
  "kernelspec": {
   "display_name": "Python 3 (ipykernel)",
   "language": "python",
   "name": "python3"
  },
  "language_info": {
   "codemirror_mode": {
    "name": "ipython",
    "version": 3
   },
   "file_extension": ".py",
   "mimetype": "text/x-python",
   "name": "python",
   "nbconvert_exporter": "python",
   "pygments_lexer": "ipython3",
   "version": "3.8.5"
  }
 },
 "nbformat": 4,
 "nbformat_minor": 5
}
