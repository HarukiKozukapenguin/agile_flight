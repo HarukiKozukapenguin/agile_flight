{
 "cells": [
  {
   "cell_type": "code",
   "execution_count": 13,
   "id": "4b8d3ddf",
   "metadata": {
    "scrolled": true
   },
   "outputs": [],
   "source": [
    "import pandas as pd\n",
    "import os\n",
    "import statistics\n",
    "import csv\n",
    "import seaborn as sns\n",
    "\n",
    "# with open(os.getcwd()+'/envtest/python/saved/x_averge.csv', 'w') as f:\n",
    "# writer = csv.writer(f)\n",
    "ave_x = []\n",
    "ave_v = []\n",
    "last_sim = 291\n",
    "sim_num = 24\n",
    "last_traj = 250\n",
    "for i in range (last_sim-sim_num+1,last_sim+1):  \n",
    "    df = pd.read_csv(os.getcwd()+'/../envtest/python/saved/PPO_'+str(i)+'/TestTraj/test_traj_{:05}.csv'.format(last_traj),usecols=[\"done\",\"t\",\"px\"])\n",
    "    l = []\n",
    "    v = []\n",
    "    for index, row in df.iterrows():\n",
    "        if row[0]==1.0 and oldt > 0.1:\n",
    "            l.append(oldpx)\n",
    "            v.append(oldpx/oldt)\n",
    "        oldt = row[1]\n",
    "        oldpx = row[2]\n",
    "    if l == []:\n",
    "        l.append(oldpx)\n",
    "    if v == []:\n",
    "        v.append(oldpx/oldt)\n",
    "    ave_x.append(statistics.mean(l))\n",
    "    ave_v.append(statistics.mean(v))"
   ]
  },
  {
   "cell_type": "code",
   "execution_count": 12,
   "id": "82ca6823",
   "metadata": {},
   "outputs": [
    {
     "name": "stdout",
     "output_type": "stream",
     "text": [
      "[8.190470018863206, 8.190470018863206]\n",
      "[0.4095235009431672, 0.4095235009431672]\n"
     ]
    }
   ],
   "source": [
    "# last_traj = 250\n",
    "# i=291-24+1\n",
    "# df = pd.read_csv(os.getcwd()+'/../envtest/python/saved/PPO_'+str(i)+'/TestTraj/test_traj_{:05}.csv'.format(last_traj),usecols=[\"done\",\"t\",\"px\"])\n",
    "# l = []\n",
    "# v = []\n",
    "# for index, row in df.iterrows():\n",
    "# #     print(row[0])\n",
    "#     if row[0]==1.0 and oldt > 0.1:\n",
    "#         l.append(oldpx)\n",
    "#         v.append(oldpx/oldt)\n",
    "#     oldt = row[1]\n",
    "#     oldpx = row[2]\n",
    "# if l == []:\n",
    "#     l.append(oldpx)\n",
    "# if v == []:\n",
    "#     v.append(oldpx/oldt)\n",
    "# ave_x.append(statistics.mean(l))\n",
    "# ave_v.append(statistics.mean(v))\n",
    "\n",
    "# print(ave_x)\n",
    "# print(ave_v)"
   ]
  },
  {
   "cell_type": "code",
   "execution_count": 14,
   "id": "49f6d417",
   "metadata": {
    "scrolled": false
   },
   "outputs": [
    {
     "name": "stdout",
     "output_type": "stream",
     "text": [
      "[8.190470018863206, 19.948051411016134, 0.33121800649007677, 0.2740496367003819, -0.935861268964813, -0.3910714973832395, 13.264747105217465, 7.955555378180068, -0.094709229220145, 0.07613608035800559, -0.5532076788078812, -0.40610709047081994, 15.110898479412477, 34.532336183271525, 2.30365314637607, 2.4176736342280076, 1.6830463251124295, 1.4970350467285884, 11.74910583408179, 7.948299079694158, 2.8571224542426847, 2.628066519797693, 1.944256908811236, 1.655997610143331]\n"
     ]
    }
   ],
   "source": [
    "print(ave_x)"
   ]
  },
  {
   "cell_type": "code",
   "execution_count": 5,
   "id": "68c7a99c",
   "metadata": {},
   "outputs": [],
   "source": [
    "import pandas as pd\n",
    "import os\n",
    "import statistics\n",
    "import csv\n",
    "import seaborn as sns\n",
    "\n",
    "# with open(os.getcwd()+'/envtest/python/saved/x_averge.csv', 'w') as f:\n",
    "# writer = csv.writer(f)\n",
    "ave_x = []\n",
    "ave_v = []\n",
    "last_sim = 212\n",
    "sim_num = 1\n",
    "for i in range (last_sim-sim_num+1,last_sim+1):  \n",
    "    df = pd.read_csv(os.getcwd()+'/envtest/python/saved/PPO_'+str(i)+'/TestTraj/test_traj_00250.csv',usecols=[\"done\",\"t\",\"px\"])\n",
    "    l = []\n",
    "    v = []\n",
    "    for index, row in df.iterrows():\n",
    "        if row[0]==1.0 and oldt > 0.1:\n",
    "            l.append(oldpx)\n",
    "            v.append(oldpx/oldt)\n",
    "        oldt = row[1]\n",
    "        oldpx = row[2]\n",
    "    ave_x.append(statistics.mean(l))\n",
    "    ave_v.append(statistics.mean(v))"
   ]
  },
  {
   "cell_type": "code",
   "execution_count": 6,
   "id": "bd95e96d",
   "metadata": {
    "scrolled": false
   },
   "outputs": [
    {
     "name": "stdout",
     "output_type": "stream",
     "text": [
      "[6.772878582736508]\n"
     ]
    }
   ],
   "source": [
    "print(ave_x)"
   ]
  },
  {
   "cell_type": "code",
   "execution_count": null,
   "id": "c09c2663",
   "metadata": {},
   "outputs": [],
   "source": []
  },
  {
   "cell_type": "code",
   "execution_count": 15,
   "id": "fbea1adc",
   "metadata": {},
   "outputs": [],
   "source": [
    "col_001_1 = []\n",
    "col_001_2 = []\n",
    "col_005_1 = []\n",
    "col_005_2 = []\n",
    "for i in range (24):\n",
    "    if i%2==0:\n",
    "        if (i//6)%2==0:\n",
    "            col_001_1.append(ave_x[i])\n",
    "        else:\n",
    "            col_005_1.append(ave_x[i])\n",
    "    else:\n",
    "        if (i//6)%2==0:\n",
    "            col_001_2.append(ave_x[i])\n",
    "        else:\n",
    "            col_005_2.append(ave_x[i])\n",
    "ncol_001_1 = [[col_001_1[3*i+j] for j in range (3)] for i in range (2)]\n",
    "ncol_001_2 = [[col_001_2[3*i+j] for j in range (3)] for i in range (2)]\n",
    "ncol_005_1 = [[col_005_1[3*i+j] for j in range (3)] for i in range (2)]\n",
    "ncol_005_2 = [[col_005_2[3*i+j] for j in range (3)] for i in range (2)]\n",
    "\n",
    "vcol_001_1 = []\n",
    "vcol_001_2 = []\n",
    "vcol_005_1 = []\n",
    "vcol_005_2 = []\n",
    "for i in range (24):\n",
    "    if i%2==0:\n",
    "        if (i//6)%2==0:\n",
    "            vcol_001_1.append(ave_v[i])\n",
    "        else:\n",
    "            vcol_005_1.append(ave_v[i])\n",
    "    else:\n",
    "        if (i//6)%2==0:\n",
    "            vcol_001_2.append(ave_v[i])\n",
    "        else:\n",
    "            vcol_005_2.append(ave_v[i])\n",
    "nvcol_001_1 = [[vcol_001_1[3*i+j] for j in range (3)] for i in range (2)]\n",
    "nvcol_001_2 = [[vcol_001_2[3*i+j] for j in range (3)] for i in range (2)]\n",
    "nvcol_005_1 = [[vcol_005_1[3*i+j] for j in range (3)] for i in range (2)]\n",
    "nvcol_005_2 = [[vcol_005_2[3*i+j] for j in range (3)] for i in range (2)]"
   ]
  },
  {
   "cell_type": "code",
   "execution_count": 16,
   "id": "29cdcd83",
   "metadata": {
    "scrolled": false
   },
   "outputs": [
    {
     "data": {
      "text/plain": [
       "<AxesSubplot:>"
      ]
     },
     "execution_count": 16,
     "metadata": {},
     "output_type": "execute_result"
    },
    {
     "data": {
      "image/png": "[encoded data removed]",
      "text/plain": [
       "<Figure size 432x288 with 2 Axes>"
      ]
     },
     "metadata": {
      "needs_background": "light"
     },
     "output_type": "display_data"
    }
   ],
   "source": [
    "df = pd.DataFrame(data=ncol_001_1, \\\n",
    "                  index=['0', '0.5'], columns=['0.1', '0', '-0.1'])\n",
    "sns.heatmap(df)"
   ]
  },
  {
   "cell_type": "code",
   "execution_count": 17,
   "id": "f8775b4b",
   "metadata": {},
   "outputs": [
    {
     "data": {
      "text/plain": [
       "<AxesSubplot:>"
      ]
     },
     "execution_count": 17,
     "metadata": {},
     "output_type": "execute_result"
    },
    {
     "data": {
      "image/png": "[encoded data removed]",
      "text/plain": [
       "<Figure size 432x288 with 2 Axes>"
      ]
     },
     "metadata": {
      "needs_background": "light"
     },
     "output_type": "display_data"
    }
   ],
   "source": [
    "df = pd.DataFrame(data=ncol_001_2, \\\n",
    "                  index=['1.5', '3'], columns=['0.1', '0', '-0.1'])\n",
    "sns.heatmap(df)"
   ]
  },
  {
   "cell_type": "code",
   "execution_count": 18,
   "id": "fa683ab2",
   "metadata": {},
   "outputs": [
    {
     "data": {
      "text/plain": [
       "<AxesSubplot:>"
      ]
     },
     "execution_count": 18,
     "metadata": {},
     "output_type": "execute_result"
    },
    {
     "data": {
      "image/png": "[encoded data removed]",
      "text/plain": [
       "<Figure size 432x288 with 2 Axes>"
      ]
     },
     "metadata": {
      "needs_background": "light"
     },
     "output_type": "display_data"
    }
   ],
   "source": [
    "df = pd.DataFrame(data=nvcol_005_1, \\\n",
    "                  index=['1.5', '3'], columns=['0.1', '0', '-0.1'])\n",
    "sns.heatmap(df)"
   ]
  },
  {
   "cell_type": "code",
   "execution_count": 19,
   "id": "9db2ec46",
   "metadata": {},
   "outputs": [
    {
     "data": {
      "text/plain": [
       "<AxesSubplot:>"
      ]
     },
     "execution_count": 19,
     "metadata": {},
     "output_type": "execute_result"
    },
    {
     "data": {
      "image/png": "[encoded data removed]",
      "text/plain": [
       "<Figure size 432x288 with 2 Axes>"
      ]
     },
     "metadata": {
      "needs_background": "light"
     },
     "output_type": "display_data"
    }
   ],
   "source": [
    "df = pd.DataFrame(data=ncol_005_2, \\\n",
    "                  index=['1.5', '3'], columns=['0.1', '0', '-0.1'])\n",
    "sns.heatmap(df)"
   ]
  },
  {
   "cell_type": "code",
   "execution_count": 20,
   "id": "b16e5f28",
   "metadata": {
    "scrolled": true
   },
   "outputs": [
    {
     "data": {
      "text/plain": [
       "<AxesSubplot:>"
      ]
     },
     "execution_count": 20,
     "metadata": {},
     "output_type": "execute_result"
    },
    {
     "data": {
      "image/png": "[encoded data removed]",
      "text/plain": [
       "<Figure size 432x288 with 2 Axes>"
      ]
     },
     "metadata": {
      "needs_background": "light"
     },
     "output_type": "display_data"
    }
   ],
   "source": [
    "df = pd.DataFrame(data=nvcol_001_1, \\\n",
    "                  index=['1.5', '3'], columns=['0.1', '0', '-0.1'])\n",
    "sns.heatmap(df)"
   ]
  },
  {
   "cell_type": "code",
   "execution_count": 21,
   "id": "46877ece",
   "metadata": {},
   "outputs": [
    {
     "data": {
      "text/plain": [
       "<AxesSubplot:>"
      ]
     },
     "execution_count": 21,
     "metadata": {},
     "output_type": "execute_result"
    },
    {
     "data": {
      "image/png": "[encoded data removed]",
      "text/plain": [
       "<Figure size 432x288 with 2 Axes>"
      ]
     },
     "metadata": {
      "needs_background": "light"
     },
     "output_type": "display_data"
    }
   ],
   "source": [
    "df = pd.DataFrame(data=nvcol_001_2, \\\n",
    "                  index=['1.5', '3'], columns=['0.1', '0', '-0.1'])\n",
    "sns.heatmap(df)"
   ]
  },
  {
   "cell_type": "code",
   "execution_count": 22,
   "id": "838a8881",
   "metadata": {},
   "outputs": [
    {
     "data": {
      "text/plain": [
       "<AxesSubplot:>"
      ]
     },
     "execution_count": 22,
     "metadata": {},
     "output_type": "execute_result"
    },
    {
     "data": {
      "image/png": "[encoded data removed]",
      "text/plain": [
       "<Figure size 432x288 with 2 Axes>"
      ]
     },
     "metadata": {
      "needs_background": "light"
     },
     "output_type": "display_data"
    }
   ],
   "source": [
    "df = pd.DataFrame(data=nvcol_005_1, \\\n",
    "                  index=['1.5', '3'], columns=['0.1', '0', '-0.1'])\n",
    "sns.heatmap(df)"
   ]
  },
  {
   "cell_type": "code",
   "execution_count": 23,
   "id": "8b89e03c",
   "metadata": {},
   "outputs": [
    {
     "data": {
      "text/plain": [
       "<AxesSubplot:>"
      ]
     },
     "execution_count": 23,
     "metadata": {},
     "output_type": "execute_result"
    },
    {
     "data": {
      "image/png": "[encoded data removed]",
      "text/plain": [
       "<Figure size 432x288 with 2 Axes>"
      ]
     },
     "metadata": {
      "needs_background": "light"
     },
     "output_type": "display_data"
    }
   ],
   "source": [
    "df = pd.DataFrame(data=nvcol_005_2, \\\n",
    "                  index=['1.5', '3'], columns=['0.1', '0', '-0.1'])\n",
    "sns.heatmap(df)"
   ]
  },
  {
   "cell_type": "code",
   "execution_count": null,
   "id": "4086141e",
   "metadata": {},
   "outputs": [],
   "source": []
  }
 ],
 "metadata": {
  "kernelspec": {
   "display_name": "Python 3 (ipykernel)",
   "language": "python",
   "name": "python3"
  },
  "language_info": {
   "codemirror_mode": {
    "name": "ipython",
    "version": 3
   },
   "file_extension": ".py",
   "mimetype": "text/x-python",
   "name": "python",
   "nbconvert_exporter": "python",
   "pygments_lexer": "ipython3",
   "version": "3.8.5"
  }
 },
 "nbformat": 4,
 "nbformat_minor": 5
}
