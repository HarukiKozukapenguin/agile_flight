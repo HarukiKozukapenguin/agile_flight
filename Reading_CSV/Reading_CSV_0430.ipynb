{
 "cells": [
  {
   "cell_type": "code",
   "execution_count": 1,
   "id": "4b8d3ddf",
   "metadata": {
    "scrolled": true
   },
   "outputs": [],
   "source": [
    "import pandas as pd\n",
    "import os\n",
    "import statistics\n",
    "import csv\n",
    "import seaborn as sns\n",
    "\n",
    "# with open(os.getcwd()+'/envtest/python/saved/x_averge.csv', 'w') as f:\n",
    "# writer = csv.writer(f)\n",
    "ave_x = []\n",
    "ave_v = []\n",
    "last_sim = 330\n",
    "sim_num = 24\n",
    "last_traj = 250\n",
    "for i in range (last_sim-sim_num+1,last_sim+1):  \n",
    "    df = pd.read_csv(os.getcwd()+'/../envtest/python/saved/PPO_'+str(i)+'/TestTraj/test_traj_{:05}.csv'.format(last_traj),usecols=[\"done\",\"t\",\"px\"])\n",
    "    l = []\n",
    "    v = []\n",
    "    for index, row in df.iterrows():\n",
    "        if row[0]==1.0 and oldt > 0.1:\n",
    "            l.append(oldpx)\n",
    "            v.append(oldpx/oldt)\n",
    "        oldt = row[1]\n",
    "        oldpx = row[2]\n",
    "    if l == []:\n",
    "        l.append(oldpx)\n",
    "    if v == []:\n",
    "        v.append(oldpx/oldt)\n",
    "    ave_x.append(statistics.mean(l))\n",
    "    ave_v.append(statistics.mean(v))"
   ]
  },
  {
   "cell_type": "code",
   "execution_count": 2,
   "id": "49f6d417",
   "metadata": {
    "scrolled": true
   },
   "outputs": [
    {
     "name": "stdout",
     "output_type": "stream",
     "text": [
      "[11.02846321626281, 15.811311964921142, 11.267272560647964, 6.3614662847209935, 1.6527454802881663, 1.2553557188637954, 7.405169048869064, 13.303223972306425, 1.6154057782073563, 7.24885784172352, 1.433300079893641, 1.4005879312129552, 17.389566831309537, 17.36721575817715, 9.328213162140688, 7.483099247014406, 3.565276875356602, 3.678682768332258, 16.332327913623928, 15.461420037775659, 7.873057116494732, 7.64099562785396, 2.9032496772693435, 3.214638556748714]\n"
     ]
    }
   ],
   "source": [
    "print(ave_x)"
   ]
  },
  {
   "cell_type": "code",
   "execution_count": 3,
   "id": "fbea1adc",
   "metadata": {},
   "outputs": [],
   "source": [
    "col_001_1 = []\n",
    "col_001_2 = []\n",
    "col_005_1 = []\n",
    "col_005_2 = []\n",
    "for i in range (24):\n",
    "    if i%2==0:\n",
    "        if (i//6)%2==0:\n",
    "            col_001_1.append(ave_x[i])\n",
    "        else:\n",
    "            col_005_1.append(ave_x[i])\n",
    "    else:\n",
    "        if (i//6)%2==0:\n",
    "            col_001_2.append(ave_x[i])\n",
    "        else:\n",
    "            col_005_2.append(ave_x[i])\n",
    "ncol_001_1 = [[col_001_1[3*i+j] for j in range (3)] for i in range (2)]\n",
    "ncol_001_2 = [[col_001_2[3*i+j] for j in range (3)] for i in range (2)]\n",
    "ncol_005_1 = [[col_005_1[3*i+j] for j in range (3)] for i in range (2)]\n",
    "ncol_005_2 = [[col_005_2[3*i+j] for j in range (3)] for i in range (2)]\n",
    "\n",
    "vcol_001_1 = []\n",
    "vcol_001_2 = []\n",
    "vcol_005_1 = []\n",
    "vcol_005_2 = []\n",
    "for i in range (24):\n",
    "    if i%2==0:\n",
    "        if (i//6)%2==0:\n",
    "            vcol_001_1.append(ave_v[i])\n",
    "        else:\n",
    "            vcol_005_1.append(ave_v[i])\n",
    "    else:\n",
    "        if (i//6)%2==0:\n",
    "            vcol_001_2.append(ave_v[i])\n",
    "        else:\n",
    "            vcol_005_2.append(ave_v[i])\n",
    "nvcol_001_1 = [[vcol_001_1[3*i+j] for j in range (3)] for i in range (2)]\n",
    "nvcol_001_2 = [[vcol_001_2[3*i+j] for j in range (3)] for i in range (2)]\n",
    "nvcol_005_1 = [[vcol_005_1[3*i+j] for j in range (3)] for i in range (2)]\n",
    "nvcol_005_2 = [[vcol_005_2[3*i+j] for j in range (3)] for i in range (2)]"
   ]
  },
  {
   "cell_type": "code",
   "execution_count": 7,
   "id": "29cdcd83",
   "metadata": {
    "scrolled": true
   },
   "outputs": [
    {
     "data": {
      "text/plain": [
       "<AxesSubplot:>"
      ]
     },
     "execution_count": 7,
     "metadata": {},
     "output_type": "execute_result"
    },
    {
     "data": {
      "image/png": "[encoded data removed]",
      "text/plain": [
       "<Figure size 432x288 with 2 Axes>"
      ]
     },
     "metadata": {
      "needs_background": "light"
     },
     "output_type": "display_data"
    }
   ],
   "source": [
    "df = pd.DataFrame(data=ncol_001_1, \\\n",
    "                  index=['0.5', '1'], columns=['0.1', '0', '-0.1'])\n",
    "sns.heatmap(df)"
   ]
  },
  {
   "cell_type": "code",
   "execution_count": 6,
   "id": "f8775b4b",
   "metadata": {},
   "outputs": [
    {
     "data": {
      "text/plain": [
       "<AxesSubplot:>"
      ]
     },
     "execution_count": 6,
     "metadata": {},
     "output_type": "execute_result"
    },
    {
     "data": {
      "image/png": "[encoded data removed]",
      "text/plain": [
       "<Figure size 432x288 with 2 Axes>"
      ]
     },
     "metadata": {
      "needs_background": "light"
     },
     "output_type": "display_data"
    }
   ],
   "source": [
    "df = pd.DataFrame(data=ncol_001_2, \\\n",
    "                  index=['0.5', '1'], columns=['0.1', '0', '-0.1'])\n",
    "sns.heatmap(df)"
   ]
  },
  {
   "cell_type": "code",
   "execution_count": 9,
   "id": "fa683ab2",
   "metadata": {},
   "outputs": [
    {
     "data": {
      "text/plain": [
       "<AxesSubplot:>"
      ]
     },
     "execution_count": 9,
     "metadata": {},
     "output_type": "execute_result"
    },
    {
     "data": {
      "image/png": "[encoded data removed]",
      "text/plain": [
       "<Figure size 432x288 with 2 Axes>"
      ]
     },
     "metadata": {
      "needs_background": "light"
     },
     "output_type": "display_data"
    }
   ],
   "source": [
    "df = pd.DataFrame(data=nvcol_005_1, \\\n",
    "                  index=['0.5', '1'], columns=['0.1', '0', '-0.1'])\n",
    "sns.heatmap(df)"
   ]
  },
  {
   "cell_type": "code",
   "execution_count": 11,
   "id": "9db2ec46",
   "metadata": {},
   "outputs": [
    {
     "data": {
      "text/plain": [
       "<AxesSubplot:>"
      ]
     },
     "execution_count": 11,
     "metadata": {},
     "output_type": "execute_result"
    },
    {
     "data": {
      "image/png": "[encoded data removed]",
      "text/plain": [
       "<Figure size 432x288 with 2 Axes>"
      ]
     },
     "metadata": {
      "needs_background": "light"
     },
     "output_type": "display_data"
    }
   ],
   "source": [
    "df = pd.DataFrame(data=ncol_005_2, \\\n",
    "                  index=['0.5', '1'], columns=['0.1', '0', '-0.1'])\n",
    "sns.heatmap(df)"
   ]
  },
  {
   "cell_type": "code",
   "execution_count": 20,
   "id": "b16e5f28",
   "metadata": {
    "scrolled": true
   },
   "outputs": [
    {
     "data": {
      "text/plain": [
       "<AxesSubplot:>"
      ]
     },
     "execution_count": 20,
     "metadata": {},
     "output_type": "execute_result"
    },
    {
     "data": {
      "image/png": "[encoded data removed]",
      "text/plain": [
       "<Figure size 432x288 with 2 Axes>"
      ]
     },
     "metadata": {
      "needs_background": "light"
     },
     "output_type": "display_data"
    }
   ],
   "source": [
    "df = pd.DataFrame(data=nvcol_001_1, \\\n",
    "                  index=['1.5', '3'], columns=['0.1', '0', '-0.1'])\n",
    "sns.heatmap(df)"
   ]
  },
  {
   "cell_type": "code",
   "execution_count": 21,
   "id": "46877ece",
   "metadata": {},
   "outputs": [
    {
     "data": {
      "text/plain": [
       "<AxesSubplot:>"
      ]
     },
     "execution_count": 21,
     "metadata": {},
     "output_type": "execute_result"
    },
    {
     "data": {
      "image/png": "[encoded data removed]",
      "text/plain": [
       "<Figure size 432x288 with 2 Axes>"
      ]
     },
     "metadata": {
      "needs_background": "light"
     },
     "output_type": "display_data"
    }
   ],
   "source": [
    "df = pd.DataFrame(data=nvcol_001_2, \\\n",
    "                  index=['1.5', '3'], columns=['0.1', '0', '-0.1'])\n",
    "sns.heatmap(df)"
   ]
  },
  {
   "cell_type": "code",
   "execution_count": 22,
   "id": "838a8881",
   "metadata": {},
   "outputs": [
    {
     "data": {
      "text/plain": [
       "<AxesSubplot:>"
      ]
     },
     "execution_count": 22,
     "metadata": {},
     "output_type": "execute_result"
    },
    {
     "data": {
      "image/png": "[encoded data removed]",
      "text/plain": [
       "<Figure size 432x288 with 2 Axes>"
      ]
     },
     "metadata": {
      "needs_background": "light"
     },
     "output_type": "display_data"
    }
   ],
   "source": [
    "df = pd.DataFrame(data=nvcol_005_1, \\\n",
    "                  index=['1.5', '3'], columns=['0.1', '0', '-0.1'])\n",
    "sns.heatmap(df)"
   ]
  },
  {
   "cell_type": "code",
   "execution_count": 23,
   "id": "8b89e03c",
   "metadata": {},
   "outputs": [
    {
     "data": {
      "text/plain": [
       "<AxesSubplot:>"
      ]
     },
     "execution_count": 23,
     "metadata": {},
     "output_type": "execute_result"
    },
    {
     "data": {
      "image/png": "[encoded data removed]",
      "text/plain": [
       "<Figure size 432x288 with 2 Axes>"
      ]
     },
     "metadata": {
      "needs_background": "light"
     },
     "output_type": "display_data"
    }
   ],
   "source": [
    "df = pd.DataFrame(data=nvcol_005_2, \\\n",
    "                  index=['1.5', '3'], columns=['0.1', '0', '-0.1'])\n",
    "sns.heatmap(df)"
   ]
  },
  {
   "cell_type": "code",
   "execution_count": null,
   "id": "4086141e",
   "metadata": {},
   "outputs": [],
   "source": []
  }
 ],
 "metadata": {
  "kernelspec": {
   "display_name": "Python 3 (ipykernel)",
   "language": "python",
   "name": "python3"
  },
  "language_info": {
   "codemirror_mode": {
    "name": "ipython",
    "version": 3
   },
   "file_extension": ".py",
   "mimetype": "text/x-python",
   "name": "python",
   "nbconvert_exporter": "python",
   "pygments_lexer": "ipython3",
   "version": "3.8.5"
  }
 },
 "nbformat": 4,
 "nbformat_minor": 5
}
