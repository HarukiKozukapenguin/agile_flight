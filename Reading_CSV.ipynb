{
 "cells": [
  {
   "cell_type": "code",
   "execution_count": 58,
   "id": "4b8d3ddf",
   "metadata": {},
   "outputs": [],
   "source": [
    "import pandas as pd\n",
    "import os\n",
    "import statistics\n",
    "import csv\n",
    "import seaborn as sns\n",
    "\n",
    "# with open(os.getcwd()+'/envtest/python/saved/x_averge.csv', 'w') as f:\n",
    "# writer = csv.writer(f)\n",
    "ave_x = []\n",
    "ave_v = []\n",
    "for i in range (77,101):  \n",
    "    df = pd.read_csv(os.getcwd()+'/envtest/python/saved/PPO_'+str(i)+'/TestTraj/test_traj_02000.csv',usecols=[\"done\",\"t\",\"px\"])\n",
    "    l = []\n",
    "    v = []\n",
    "    for index, row in df.iterrows():\n",
    "        if row[0]==1.0 and oldt > 0.1:\n",
    "            l.append(oldpx)\n",
    "            v.append(oldpx/oldt)\n",
    "        oldt = row[1]\n",
    "        oldpx = row[2]\n",
    "    ave_x.append(statistics.mean(l))\n",
    "    ave_v.append(statistics.mean(v))"
   ]
  },
  {
   "cell_type": "code",
   "execution_count": 57,
   "id": "b40da311",
   "metadata": {
    "scrolled": true
   },
   "outputs": [
    {
     "name": "stdout",
     "output_type": "stream",
     "text": [
      "67.43454528934232\n",
      "4.349595527865894\n"
     ]
    }
   ],
   "source": [
    "df = pd.read_csv(os.getcwd()+'/envtest/python/saved/PPO_'+str(77)+'/TestTraj/test_traj_02000.csv',usecols=[\"done\",\"t\",\"px\"])\n",
    "l = []\n",
    "v = []\n",
    "for index, row in df.iterrows():\n",
    "    if row[0]==1.0 and oldt > 0.1: #episodeが0.1s以下の場合は無視\n",
    "        l.append(oldpx)\n",
    "        v.append(oldpx/oldt)\n",
    "    oldt = row[1]\n",
    "    oldpx = row[2]\n",
    "print(statistics.mean(l))\n",
    "print(statistics.mean(v))"
   ]
  },
  {
   "cell_type": "code",
   "execution_count": 59,
   "id": "663d672c",
   "metadata": {
    "scrolled": true
   },
   "outputs": [
    {
     "name": "stdout",
     "output_type": "stream",
     "text": [
      "[67.43454528934232, 62.0164579402876, 67.82311480818038, 47.14555707550817, 70.80865150949087, 63.720052834048346, 64.81528908815157, 60.499974360793104, 66.38292555440103, 63.05164554178102, 65.54200773920635, 63.52763390637862, 67.69995544742106, 70.28779914072496, 73.06075292415106, 65.91995027203195, 42.29164148236599, 69.89942504549937, 67.78271926889217, 65.29887135650785, 66.72381677602812, 68.99051146052847, 66.57340854574741, 68.82709152047092]\n",
      "[4.349595527865894, 4.711383336291438, 5.9866808071426, 3.0717610614498545, 6.728107852085486, 6.098037762267112, 6.450111172184601, 5.907689550506785, 8.013041744166948, 5.9525344228836135, 4.691873687090781, 6.0899865782273475, 28.124166336013783, 24.80364634809385, 30.761638971562277, 29.051494468919678, 21.31643082808318, 32.9846727354307, 33.553222214720286, 32.47542800812389, 33.66407708903352, 34.308282666770936, 33.15927272207079, 34.036416560406714]\n"
     ]
    }
   ],
   "source": [
    "print(ave_x)\n",
    "print(ave_v)"
   ]
  },
  {
   "cell_type": "code",
   "execution_count": 13,
   "id": "fbea1adc",
   "metadata": {},
   "outputs": [],
   "source": [
    "col_005 = []\n",
    "col_010 = []\n",
    "for i in range (24):\n",
    "    if (i//3)%2==0:\n",
    "        col_005.append(ave_x[i])\n",
    "    else:\n",
    "        col_010.append(ave_x[i])\n",
    "\n",
    "ncol_005 = [[col_005[i*3+j] for i in range(4)] for j in range (3)]\n",
    "ncol_010 = [[col_010[i*3+j] for i in range(4)] for j in range (3)]"
   ]
  },
  {
   "cell_type": "code",
   "execution_count": 60,
   "id": "7d8b323d",
   "metadata": {},
   "outputs": [],
   "source": [
    "colv_005 = []\n",
    "colv_010 = []\n",
    "for i in range (24):\n",
    "    if (i//3)%2==0:\n",
    "        colv_005.append(ave_v[i])\n",
    "    else:\n",
    "        colv_010.append(ave_v[i])\n",
    "ncolv_005 = [[colv_005[i*3+j] for i in range(4)] for j in range (3)]\n",
    "ncolv_010 = [[colv_010[i*3+j] for i in range(4)] for j in range (3)]"
   ]
  },
  {
   "cell_type": "code",
   "execution_count": 20,
   "id": "29cdcd83",
   "metadata": {
    "scrolled": false
   },
   "outputs": [
    {
     "data": {
      "text/plain": [
       "<AxesSubplot:>"
      ]
     },
     "execution_count": 20,
     "metadata": {},
     "output_type": "execute_result"
    },
    {
     "data": {
      "image/png": "[encoded data removed]",
      "text/plain": [
       "<Figure size 432x288 with 2 Axes>"
      ]
     },
     "metadata": {
      "needs_background": "light"
     },
     "output_type": "display_data"
    }
   ],
   "source": [
    "# list_2d = [[0, 1, 2], [3, 4, 5]]\n",
    "df = pd.DataFrame(data=ncol_005, \\\n",
    "                  index=['0.1', '0.3','1.0'], columns=['0.8', '1.0', '1.5','3'])\n",
    "sns.heatmap(df)"
   ]
  },
  {
   "cell_type": "code",
   "execution_count": 61,
   "id": "f8775b4b",
   "metadata": {},
   "outputs": [
    {
     "data": {
      "text/plain": [
       "<AxesSubplot:>"
      ]
     },
     "execution_count": 61,
     "metadata": {},
     "output_type": "execute_result"
    },
    {
     "data": {
      "image/png": "[encoded data removed]",
      "text/plain": [
       "<Figure size 432x288 with 2 Axes>"
      ]
     },
     "metadata": {
      "needs_background": "light"
     },
     "output_type": "display_data"
    }
   ],
   "source": [
    "df = pd.DataFrame(data=ncolv_005, \\\n",
    "                  index=['0.1', '0.3','1.0'], columns=['0.8', '1.0', '1.5','3'])\n",
    "sns.heatmap(df)"
   ]
  },
  {
   "cell_type": "code",
   "execution_count": 21,
   "id": "fa683ab2",
   "metadata": {},
   "outputs": [
    {
     "data": {
      "text/plain": [
       "<AxesSubplot:>"
      ]
     },
     "execution_count": 21,
     "metadata": {},
     "output_type": "execute_result"
    },
    {
     "data": {
      "image/png": "[encoded data removed]",
      "text/plain": [
       "<Figure size 432x288 with 2 Axes>"
      ]
     },
     "metadata": {
      "needs_background": "light"
     },
     "output_type": "display_data"
    }
   ],
   "source": [
    "df = pd.DataFrame(data=ncol_010, \\\n",
    "                  index=['0.1', '0.3','1.0'], columns=['0.8', '1.0', '1.5','3'])\n",
    "sns.heatmap(df)"
   ]
  },
  {
   "cell_type": "code",
   "execution_count": 62,
   "id": "9db2ec46",
   "metadata": {},
   "outputs": [
    {
     "data": {
      "text/plain": [
       "<AxesSubplot:>"
      ]
     },
     "execution_count": 62,
     "metadata": {},
     "output_type": "execute_result"
    },
    {
     "data": {
      "image/png": "[encoded data removed]",
      "text/plain": [
       "<Figure size 432x288 with 2 Axes>"
      ]
     },
     "metadata": {
      "needs_background": "light"
     },
     "output_type": "display_data"
    }
   ],
   "source": [
    "df = pd.DataFrame(data=ncolv_010, \\\n",
    "                  index=['0.1', '0.3','1.0'], columns=['0.8', '1.0', '1.5','3'])\n",
    "sns.heatmap(df)"
   ]
  },
  {
   "cell_type": "code",
   "execution_count": null,
   "id": "b16e5f28",
   "metadata": {},
   "outputs": [],
   "source": []
  }
 ],
 "metadata": {
  "kernelspec": {
   "display_name": "Python 3 (ipykernel)",
   "language": "python",
   "name": "python3"
  },
  "language_info": {
   "codemirror_mode": {
    "name": "ipython",
    "version": 3
   },
   "file_extension": ".py",
   "mimetype": "text/x-python",
   "name": "python",
   "nbconvert_exporter": "python",
   "pygments_lexer": "ipython3",
   "version": "3.8.5"
  }
 },
 "nbformat": 4,
 "nbformat_minor": 5
}
