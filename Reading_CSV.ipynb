{
 "cells": [
  {
   "cell_type": "code",
   "execution_count": 28,
   "id": "4b8d3ddf",
   "metadata": {},
   "outputs": [
    {
     "name": "stdout",
     "output_type": "stream",
     "text": [
      "72.71556754402661\n",
      "49.19945270770081\n",
      "19.878189225783014\n",
      "13.689528976829637\n",
      "17.5441463154194\n",
      "14.31455559188015\n",
      "7.952000013697124\n",
      "18.557715223591902\n",
      "14.278970880093588\n",
      "0.1350723679796391\n",
      "6.072883755469016\n",
      "2.44924206996244\n",
      "28.12028103976896\n",
      "17.884991147109368\n",
      "26.286447968047614\n",
      "23.905293661850365\n",
      "44.04895747553225\n",
      "19.66212088075866\n",
      "15.33531555039941\n",
      "31.82943762967991\n",
      "20.890859137088725\n",
      "0.7741193728347278\n",
      "5.590658829955508\n",
      "16.808377766263142\n"
     ]
    }
   ],
   "source": [
    "import pandas as pd\n",
    "import os\n",
    "import statistics\n",
    "import csv\n",
    "\n",
    "with open(os.getcwd()+'/envtest/python/saved/x_averge.csv', 'w') as f:\n",
    "    writer = csv.writer(f)\n",
    "    for i in range (35,59):  \n",
    "        df = pd.read_csv(os.getcwd()+'/envtest/python/saved/PPO_'+str(i)+'/TestTraj/test_traj_02000.csv',usecols=[\"done\",\"px\"])\n",
    "        l = []\n",
    "        for index, row in df.iterrows():\n",
    "            if row[0]==1.0:\n",
    "                l.append(oldpx)\n",
    "            oldpx = row[1]\n",
    "        print(statistics.mean(l))"
   ]
  },
  {
   "cell_type": "code",
   "execution_count": null,
   "id": "f6e6d4b5",
   "metadata": {},
   "outputs": [],
   "source": []
  }
 ],
 "metadata": {
  "kernelspec": {
   "display_name": "Python 3 (ipykernel)",
   "language": "python",
   "name": "python3"
  },
  "language_info": {
   "codemirror_mode": {
    "name": "ipython",
    "version": 3
   },
   "file_extension": ".py",
   "mimetype": "text/x-python",
   "name": "python",
   "nbconvert_exporter": "python",
   "pygments_lexer": "ipython3",
   "version": "3.8.5"
  }
 },
 "nbformat": 4,
 "nbformat_minor": 5
}
